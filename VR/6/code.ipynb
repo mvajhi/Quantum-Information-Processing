{
  "nbformat": 4,
  "nbformat_minor": 0,
  "metadata": {
    "colab": {
      "provenance": []
    },
    "kernelspec": {
      "name": "python3",
      "display_name": "Python 3"
    },
    "language_info": {
      "name": "python"
    }
  },
  "cells": [
    {
      "cell_type": "code",
      "source": [
        "!pip install qiskit pylatexenc qiskit-aer"
      ],
      "metadata": {
        "colab": {
          "base_uri": "https://localhost:8080/"
        },
        "id": "GAzGBMWEZ2QO",
        "outputId": "53b733b7-d859-4699-baa8-9d95b31e2d3e"
      },
      "execution_count": 25,
      "outputs": [
        {
          "output_type": "stream",
          "name": "stdout",
          "text": [
            "Requirement already satisfied: qiskit in /usr/local/lib/python3.12/dist-packages (2.2.1)\n",
            "Requirement already satisfied: pylatexenc in /usr/local/lib/python3.12/dist-packages (2.10)\n",
            "Collecting qiskit-aer\n",
            "  Downloading qiskit_aer-0.17.2-cp312-cp312-manylinux_2_17_x86_64.manylinux2014_x86_64.whl.metadata (8.3 kB)\n",
            "Requirement already satisfied: rustworkx>=0.15.0 in /usr/local/lib/python3.12/dist-packages (from qiskit) (0.17.1)\n",
            "Requirement already satisfied: numpy<3,>=1.17 in /usr/local/lib/python3.12/dist-packages (from qiskit) (2.0.2)\n",
            "Requirement already satisfied: scipy>=1.5 in /usr/local/lib/python3.12/dist-packages (from qiskit) (1.16.2)\n",
            "Requirement already satisfied: dill>=0.3 in /usr/local/lib/python3.12/dist-packages (from qiskit) (0.3.8)\n",
            "Requirement already satisfied: stevedore>=3.0.0 in /usr/local/lib/python3.12/dist-packages (from qiskit) (5.5.0)\n",
            "Requirement already satisfied: typing-extensions in /usr/local/lib/python3.12/dist-packages (from qiskit) (4.15.0)\n",
            "Requirement already satisfied: psutil>=5 in /usr/local/lib/python3.12/dist-packages (from qiskit-aer) (5.9.5)\n",
            "Requirement already satisfied: python-dateutil>=2.8.0 in /usr/local/lib/python3.12/dist-packages (from qiskit-aer) (2.9.0.post0)\n",
            "Requirement already satisfied: six>=1.5 in /usr/local/lib/python3.12/dist-packages (from python-dateutil>=2.8.0->qiskit-aer) (1.17.0)\n",
            "Downloading qiskit_aer-0.17.2-cp312-cp312-manylinux_2_17_x86_64.manylinux2014_x86_64.whl (12.4 MB)\n",
            "\u001b[2K   \u001b[90m━━━━━━━━━━━━━━━━━━━━━━━━━━━━━━━━━━━━━━━━\u001b[0m \u001b[32m12.4/12.4 MB\u001b[0m \u001b[31m74.3 MB/s\u001b[0m eta \u001b[36m0:00:00\u001b[0m\n",
            "\u001b[?25hInstalling collected packages: qiskit-aer\n",
            "Successfully installed qiskit-aer-0.17.2\n"
          ]
        }
      ]
    },
    {
      "cell_type": "code",
      "source": [
        "from qiskit import QuantumCircuit\n",
        "from qiskit_aer.primitives import Sampler\n",
        "from qiskit.quantum_info import Operator\n",
        "import numpy as np"
      ],
      "metadata": {
        "id": "HV41YvrTKMQw"
      },
      "execution_count": 7,
      "outputs": []
    },
    {
      "cell_type": "code",
      "execution_count": 9,
      "metadata": {
        "colab": {
          "base_uri": "https://localhost:8080/"
        },
        "id": "cJzufCDqZr39",
        "outputId": "2decda4e-5c24-41fe-a9d2-551c56e8b1c4"
      },
      "outputs": [
        {
          "output_type": "stream",
          "name": "stdout",
          "text": [
            "Quantum Circuit:\n",
            "                                                  ░                         »\n",
            "q_0: ───────────────────■─────────────────────■───░──────────■───────────■──»\n",
            "                        │                     │   ░ ┌─────┐┌─┴─┐┌─────┐┌─┴─┐»\n",
            "q_1: ───────■───────────┼─────────■───────────┼───░─┤ Tdg ├┤ X ├┤ Tdg ├┤ X ├»\n",
            "     ┌───┐┌─┴─┐┌─────┐┌─┴─┐┌───┐┌─┴─┐┌─────┐┌─┴─┐ ░ └┬───┬┘├───┤└─────┘└───┘»\n",
            "q_2: ┤ H ├┤ X ├┤ Tdg ├┤ X ├┤ T ├┤ X ├┤ Tdg ├┤ X ├─░──┤ T ├─┤ H ├────────────»\n",
            "     └───┘└───┘└─────┘└───┘└───┘└───┘└─────┘└───┘ ░  └───┘ └───┘            »\n",
            "«     ┌───┐\n",
            "«q_0: ┤ T ├\n",
            "«     ├───┤\n",
            "«q_1: ┤ S ├\n",
            "«     └───┘\n",
            "«q_2: ─────\n",
            "«          \n",
            "------------------------------\n",
            "Final Unitary Matrix:\n",
            "[[1.+0.j 0.+0.j 0.+0.j 0.+0.j 0.+0.j 0.+0.j 0.+0.j 0.+0.j]\n",
            " [0.+0.j 1.+0.j 0.+0.j 0.+0.j 0.+0.j 0.+0.j 0.+0.j 0.+0.j]\n",
            " [0.+0.j 0.+0.j 1.+0.j 0.+0.j 0.+0.j 0.+0.j 0.+0.j 0.+0.j]\n",
            " [0.+0.j 0.+0.j 0.+0.j 0.+0.j 0.+0.j 0.+0.j 0.+0.j 1.+0.j]\n",
            " [0.+0.j 0.+0.j 0.+0.j 0.+0.j 1.+0.j 0.+0.j 0.+0.j 0.+0.j]\n",
            " [0.+0.j 0.+0.j 0.+0.j 0.+0.j 0.+0.j 1.+0.j 0.+0.j 0.+0.j]\n",
            " [0.+0.j 0.+0.j 0.+0.j 0.+0.j 0.+0.j 0.+0.j 1.+0.j 0.+0.j]\n",
            " [0.+0.j 0.+0.j 0.+0.j 1.+0.j 0.+0.j 0.+0.j 0.+0.j 0.+0.j]]\n"
          ]
        }
      ],
      "source": [
        "qc = QuantumCircuit(3)\n",
        "\n",
        "qc.h([2]);\n",
        "qc.cx(1,2);\n",
        "qc.tdg([2]);\n",
        "qc.cx(0,2);\n",
        "qc.t([2]);\n",
        "qc.cx(1,2);\n",
        "qc.tdg([2]);\n",
        "qc.cx(0,2);\n",
        "qc.barrier()\n",
        "qc.tdg([1]); qc.t([2]);\n",
        "qc.cx(0,1); qc.h([2])\n",
        "qc.tdg([1]);\n",
        "qc.cx(0,1);\n",
        "qc.t([0]); qc.s([1]);\n",
        "\n",
        "print(\"Quantum Circuit:\")\n",
        "print(qc)\n",
        "print(\"-\" * 30)\n",
        "qc.draw(output=\"latex_source\", filename=\"out\")\n",
        "\n",
        "unitary_operator = Operator(qc)\n",
        "\n",
        "final_matrix = unitary_operator.data\n",
        "np.set_printoptions(precision=1, suppress=True, linewidth=np.inf)\n",
        "\n",
        "print(\"Final Unitary Matrix:\")\n",
        "print(final_matrix)"
      ]
    },
    {
      "cell_type": "code",
      "source": [
        "def create_qc(qc):\n",
        "    qc.h([1]); qc.z([0])\n",
        "    qc.h([1]); qc.h([0])\n",
        "    qc.z([0])\n",
        "\n",
        "    qc.measure(0, 0)\n",
        "    with qc.if_test((qc.clbits[0], 1)):\n",
        "        qc.x(1)\n",
        "\n",
        "qc = QuantumCircuit(2,1)\n",
        "create_qc(qc)\n",
        "print(\"Quantum Circuit:\")\n",
        "print(qc)\n",
        "print(\"-\" * 30)"
      ],
      "metadata": {
        "id": "LBABd2qHWVei",
        "colab": {
          "base_uri": "https://localhost:8080/",
          "height": 434
        },
        "outputId": "71735a30-3aea-4829-890a-9b722f3b2a2b"
      },
      "execution_count": 44,
      "outputs": [
        {
          "output_type": "stream",
          "name": "stdout",
          "text": [
            "Quantum Circuit:\n",
            "     ┌───┐┌───┐┌───┐┌─┐                          \n",
            "q_0: ┤ Z ├┤ H ├┤ Z ├┤M├──────────────────────────\n",
            "     ├───┤├───┤└───┘└╥┘  ┌──────  ┌───┐ ───────┐ \n",
            "q_1: ┤ H ├┤ H ├──────╫───┤ If-0  ─┤ X ├  End-0 ├─\n",
            "     └───┘└───┘      ║   └──╥───  └───┘ ───────┘ \n",
            "                     ║ ┌────╨────┐               \n",
            "c: 1/════════════════╩═╡ c_0=0x1 ╞═══════════════\n",
            "                     0 └─────────┘               \n",
            "------------------------------\n"
          ]
        },
        {
          "output_type": "execute_result",
          "data": {
            "text/plain": [
              "<Figure size 621.739x284.278 with 1 Axes>"
            ],
            "image/png": "[encoded data removed]"
          },
          "metadata": {},
          "execution_count": 44
        }
      ]
    },
    {
      "cell_type": "code",
      "source": [
        "input_states = ['00', '01', '10', '11']\n",
        "circuits_to_run = []\n",
        "\n",
        "for state in input_states:\n",
        "    qc = QuantumCircuit(2, 1, name=f'input_{state}')\n",
        "    if state[1] == '1':\n",
        "        qc.x(0)\n",
        "    if state[0] == '1':\n",
        "        qc.x(1)\n",
        "    create_qc(qc)\n",
        "    circuits_to_run.append(qc)\n",
        "\n",
        "sampler = Sampler()\n",
        "job = sampler.run(circuits_to_run, shots=1024)\n",
        "result = job.result()\n",
        "\n",
        "print(\"--- Simulation Results ---\")\n",
        "for i, circuit in enumerate(circuits_to_run):\n",
        "    counts = result.quasi_dists[i].binary_probabilities()\n",
        "    print(f\"\\nInput: |{circuit.name.split('_')[1]}>\")\n",
        "    print(f\"  Output Counts: {counts}\")"
      ],
      "metadata": {
        "colab": {
          "base_uri": "https://localhost:8080/"
        },
        "id": "YKYRdmFKSeFb",
        "outputId": "e0eef36a-de3c-42df-91ea-4c331db12d9b"
      },
      "execution_count": 41,
      "outputs": [
        {
          "output_type": "stream",
          "name": "stdout",
          "text": [
            "--- Simulation Results ---\n",
            "\n",
            "Input: |00>\n",
            "  Output Counts: {'0': 0.52734375, '1': 0.47265625}\n",
            "\n",
            "Input: |01>\n",
            "  Output Counts: {'0': 0.490234375, '1': 0.509765625}\n",
            "\n",
            "Input: |10>\n",
            "  Output Counts: {'1': 0.482421875, '0': 0.517578125}\n",
            "\n",
            "Input: |11>\n",
            "  Output Counts: {'0': 0.4775390625, '1': 0.5224609375}\n"
          ]
        }
      ]
    },
    {
      "cell_type": "code",
      "source": [],
      "metadata": {
        "id": "8i57fyXzTbXm"
      },
      "execution_count": null,
      "outputs": []
    }
  ]
}